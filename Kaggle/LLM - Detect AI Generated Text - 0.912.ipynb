{
 "cells": [
  {
   "cell_type": "markdown",
   "id": "107a6b37",
   "metadata": {
    "papermill": {
     "duration": 0.00837,
     "end_time": "2023-11-22T11:24:17.676668",
     "exception": false,
     "start_time": "2023-11-22T11:24:17.668298",
     "status": "completed"
    },
    "tags": []
   },
   "source": [
    "Main TFIDF idea and ngrams setup taken from: https://www.kaggle.com/code/hubert101/0-930-phrases-are-keys/notebook\n",
    "\n",
    "Dataset\n",
    "https://www.kaggle.com/datasets/narsil/daigt-misc\n"
   ]
  },
  {
   "cell_type": "markdown",
   "id": "f0c94207",
   "metadata": {
    "papermill": {
     "duration": 0.007249,
     "end_time": "2023-11-22T11:24:17.691600",
     "exception": false,
     "start_time": "2023-11-22T11:24:17.684351",
     "status": "completed"
    },
    "tags": []
   },
   "source": [
    "# Importing library"
   ]
  },
  {
   "cell_type": "code",
   "execution_count": 1,
   "id": "b1ba4620",
   "metadata": {
    "execution": {
     "iopub.execute_input": "2023-11-22T11:24:17.708886Z",
     "iopub.status.busy": "2023-11-22T11:24:17.708392Z",
     "iopub.status.idle": "2023-11-22T11:24:53.331974Z",
     "shell.execute_reply": "2023-11-22T11:24:53.330829Z"
    },
    "papermill": {
     "duration": 35.636065,
     "end_time": "2023-11-22T11:24:53.335296",
     "exception": false,
     "start_time": "2023-11-22T11:24:17.699231",
     "status": "completed"
    },
    "tags": []
   },
   "outputs": [
    {
     "name": "stdout",
     "output_type": "stream",
     "text": [
      "Processing /kaggle/input/pyspellchecker3/pyspellchecker-0.7.2-py3-none-any.whl\r\n",
      "Installing collected packages: pyspellchecker\r\n",
      "Successfully installed pyspellchecker-0.7.2\r\n"
     ]
    }
   ],
   "source": [
    "!pip install /kaggle/input/pyspellchecker3/pyspellchecker-0.7.2-py3-none-any.whl"
   ]
  },
  {
   "cell_type": "code",
   "execution_count": 2,
   "id": "f314be0a",
   "metadata": {
    "execution": {
     "iopub.execute_input": "2023-11-22T11:24:53.355080Z",
     "iopub.status.busy": "2023-11-22T11:24:53.354431Z",
     "iopub.status.idle": "2023-11-22T11:24:55.947969Z",
     "shell.execute_reply": "2023-11-22T11:24:55.946795Z"
    },
    "papermill": {
     "duration": 2.607367,
     "end_time": "2023-11-22T11:24:55.951256",
     "exception": false,
     "start_time": "2023-11-22T11:24:53.343889",
     "status": "completed"
    },
    "tags": []
   },
   "outputs": [],
   "source": [
    "import numpy as np\n",
    "import pandas as pd\n",
    "import string\n",
    "from tqdm.notebook import tqdm\n",
    "from sklearn.linear_model import LogisticRegression\n",
    "from spellchecker import SpellChecker\n",
    "from sklearn.feature_extraction.text import TfidfVectorizer\n",
    "from sklearn.ensemble import VotingClassifier\n",
    "from sklearn.linear_model import SGDClassifier"
   ]
  },
  {
   "cell_type": "markdown",
   "id": "81d24e17",
   "metadata": {
    "papermill": {
     "duration": 0.008166,
     "end_time": "2023-11-22T11:24:55.967791",
     "exception": false,
     "start_time": "2023-11-22T11:24:55.959625",
     "status": "completed"
    },
    "tags": []
   },
   "source": [
    "# Importing files and Feature Engineering"
   ]
  },
  {
   "cell_type": "code",
   "execution_count": 3,
   "id": "916e8a99",
   "metadata": {
    "execution": {
     "iopub.execute_input": "2023-11-22T11:24:55.986694Z",
     "iopub.status.busy": "2023-11-22T11:24:55.986101Z",
     "iopub.status.idle": "2023-11-22T11:24:58.867936Z",
     "shell.execute_reply": "2023-11-22T11:24:58.866410Z"
    },
    "papermill": {
     "duration": 2.894903,
     "end_time": "2023-11-22T11:24:58.871091",
     "exception": false,
     "start_time": "2023-11-22T11:24:55.976188",
     "status": "completed"
    },
    "tags": []
   },
   "outputs": [
    {
     "name": "stdout",
     "output_type": "stream",
     "text": [
      "label\n",
      "0    14250\n",
      "1    14250\n",
      "Name: count, dtype: int64\n"
     ]
    }
   ],
   "source": [
    "train = pd.read_csv(\"/kaggle/input/train-v2-drcat-02-2/train_v2_drcat_02.csv\", sep=',')\n",
    "train1 = train[train.label == 1].sample(8050)\n",
    "train = train[train.RDizzl3_seven == True].reset_index(drop=True)\n",
    "train = pd.concat([train, train1])\n",
    "print(train.label.value_counts())\n",
    "\n",
    "train['text'] = train['text'].str.replace('\\n', '') \n",
    "\n",
    "test = pd.read_csv('/kaggle/input/llm-detect-ai-generated-text/test_essays.csv')\n",
    "test['text'] = test['text'].str.replace('\\n', '') \n",
    "\n",
    "df = pd.concat([train['text'], test['text']]).reset_index(drop=True)"
   ]
  },
  {
   "cell_type": "markdown",
   "id": "6f081be9",
   "metadata": {
    "papermill": {
     "duration": 0.008302,
     "end_time": "2023-11-22T11:24:58.887709",
     "exception": false,
     "start_time": "2023-11-22T11:24:58.879407",
     "status": "completed"
    },
    "tags": []
   },
   "source": [
    "## TFIDF"
   ]
  },
  {
   "cell_type": "code",
   "execution_count": 4,
   "id": "416f6bd9",
   "metadata": {
    "execution": {
     "iopub.execute_input": "2023-11-22T11:24:58.906955Z",
     "iopub.status.busy": "2023-11-22T11:24:58.905869Z",
     "iopub.status.idle": "2023-11-22T11:27:41.363534Z",
     "shell.execute_reply": "2023-11-22T11:27:41.362492Z"
    },
    "papermill": {
     "duration": 162.470454,
     "end_time": "2023-11-22T11:27:41.366606",
     "exception": false,
     "start_time": "2023-11-22T11:24:58.896152",
     "status": "completed"
    },
    "tags": []
   },
   "outputs": [],
   "source": [
    "vectorizer1 = TfidfVectorizer(ngram_range=(3, 5), sublinear_tf=True)\n",
    "X = vectorizer1.fit_transform(train['text'])"
   ]
  },
  {
   "cell_type": "markdown",
   "id": "6ce487a5",
   "metadata": {
    "papermill": {
     "duration": 0.008018,
     "end_time": "2023-11-22T11:27:41.383383",
     "exception": false,
     "start_time": "2023-11-22T11:27:41.375365",
     "status": "completed"
    },
    "tags": []
   },
   "source": [
    "# Defining models"
   ]
  },
  {
   "cell_type": "code",
   "execution_count": 5,
   "id": "c66791cb",
   "metadata": {
    "execution": {
     "iopub.execute_input": "2023-11-22T11:27:41.402471Z",
     "iopub.status.busy": "2023-11-22T11:27:41.401388Z",
     "iopub.status.idle": "2023-11-22T11:27:41.407637Z",
     "shell.execute_reply": "2023-11-22T11:27:41.406442Z"
    },
    "papermill": {
     "duration": 0.018828,
     "end_time": "2023-11-22T11:27:41.410469",
     "exception": false,
     "start_time": "2023-11-22T11:27:41.391641",
     "status": "completed"
    },
    "tags": []
   },
   "outputs": [],
   "source": [
    "sgd_model = SGDClassifier(max_iter=1000, tol=1e-3, loss=\"modified_huber\")\n",
    "lr_model = LogisticRegression(solver=\"liblinear\")"
   ]
  },
  {
   "cell_type": "markdown",
   "id": "3c8191df",
   "metadata": {
    "papermill": {
     "duration": 0.008264,
     "end_time": "2023-11-22T11:27:41.427494",
     "exception": false,
     "start_time": "2023-11-22T11:27:41.419230",
     "status": "completed"
    },
    "tags": []
   },
   "source": [
    "# Voting Classifier"
   ]
  },
  {
   "cell_type": "code",
   "execution_count": 6,
   "id": "7a30611e",
   "metadata": {
    "execution": {
     "iopub.execute_input": "2023-11-22T11:27:41.447234Z",
     "iopub.status.busy": "2023-11-22T11:27:41.446421Z",
     "iopub.status.idle": "2023-11-22T11:28:12.248174Z",
     "shell.execute_reply": "2023-11-22T11:28:12.246318Z"
    },
    "papermill": {
     "duration": 30.8334,
     "end_time": "2023-11-22T11:28:12.269451",
     "exception": false,
     "start_time": "2023-11-22T11:27:41.436051",
     "status": "completed"
    },
    "tags": []
   },
   "outputs": [
    {
     "data": {
      "text/html": [
       "<style>#sk-container-id-1 {color: black;background-color: white;}#sk-container-id-1 pre{padding: 0;}#sk-container-id-1 div.sk-toggleable {background-color: white;}#sk-container-id-1 label.sk-toggleable__label {cursor: pointer;display: block;width: 100%;margin-bottom: 0;padding: 0.3em;box-sizing: border-box;text-align: center;}#sk-container-id-1 label.sk-toggleable__label-arrow:before {content: \"▸\";float: left;margin-right: 0.25em;color: #696969;}#sk-container-id-1 label.sk-toggleable__label-arrow:hover:before {color: black;}#sk-container-id-1 div.sk-estimator:hover label.sk-toggleable__label-arrow:before {color: black;}#sk-container-id-1 div.sk-toggleable__content {max-height: 0;max-width: 0;overflow: hidden;text-align: left;background-color: #f0f8ff;}#sk-container-id-1 div.sk-toggleable__content pre {margin: 0.2em;color: black;border-radius: 0.25em;background-color: #f0f8ff;}#sk-container-id-1 input.sk-toggleable__control:checked~div.sk-toggleable__content {max-height: 200px;max-width: 100%;overflow: auto;}#sk-container-id-1 input.sk-toggleable__control:checked~label.sk-toggleable__label-arrow:before {content: \"▾\";}#sk-container-id-1 div.sk-estimator input.sk-toggleable__control:checked~label.sk-toggleable__label {background-color: #d4ebff;}#sk-container-id-1 div.sk-label input.sk-toggleable__control:checked~label.sk-toggleable__label {background-color: #d4ebff;}#sk-container-id-1 input.sk-hidden--visually {border: 0;clip: rect(1px 1px 1px 1px);clip: rect(1px, 1px, 1px, 1px);height: 1px;margin: -1px;overflow: hidden;padding: 0;position: absolute;width: 1px;}#sk-container-id-1 div.sk-estimator {font-family: monospace;background-color: #f0f8ff;border: 1px dotted black;border-radius: 0.25em;box-sizing: border-box;margin-bottom: 0.5em;}#sk-container-id-1 div.sk-estimator:hover {background-color: #d4ebff;}#sk-container-id-1 div.sk-parallel-item::after {content: \"\";width: 100%;border-bottom: 1px solid gray;flex-grow: 1;}#sk-container-id-1 div.sk-label:hover label.sk-toggleable__label {background-color: #d4ebff;}#sk-container-id-1 div.sk-serial::before {content: \"\";position: absolute;border-left: 1px solid gray;box-sizing: border-box;top: 0;bottom: 0;left: 50%;z-index: 0;}#sk-container-id-1 div.sk-serial {display: flex;flex-direction: column;align-items: center;background-color: white;padding-right: 0.2em;padding-left: 0.2em;position: relative;}#sk-container-id-1 div.sk-item {position: relative;z-index: 1;}#sk-container-id-1 div.sk-parallel {display: flex;align-items: stretch;justify-content: center;background-color: white;position: relative;}#sk-container-id-1 div.sk-item::before, #sk-container-id-1 div.sk-parallel-item::before {content: \"\";position: absolute;border-left: 1px solid gray;box-sizing: border-box;top: 0;bottom: 0;left: 50%;z-index: -1;}#sk-container-id-1 div.sk-parallel-item {display: flex;flex-direction: column;z-index: 1;position: relative;background-color: white;}#sk-container-id-1 div.sk-parallel-item:first-child::after {align-self: flex-end;width: 50%;}#sk-container-id-1 div.sk-parallel-item:last-child::after {align-self: flex-start;width: 50%;}#sk-container-id-1 div.sk-parallel-item:only-child::after {width: 0;}#sk-container-id-1 div.sk-dashed-wrapped {border: 1px dashed gray;margin: 0 0.4em 0.5em 0.4em;box-sizing: border-box;padding-bottom: 0.4em;background-color: white;}#sk-container-id-1 div.sk-label label {font-family: monospace;font-weight: bold;display: inline-block;line-height: 1.2em;}#sk-container-id-1 div.sk-label-container {text-align: center;}#sk-container-id-1 div.sk-container {/* jupyter's `normalize.less` sets `[hidden] { display: none; }` but bootstrap.min.css set `[hidden] { display: none !important; }` so we also need the `!important` here to be able to override the default hidden behavior on the sphinx rendered scikit-learn.org. See: https://github.com/scikit-learn/scikit-learn/issues/21755 */display: inline-block !important;position: relative;}#sk-container-id-1 div.sk-text-repr-fallback {display: none;}</style><div id=\"sk-container-id-1\" class=\"sk-top-container\"><div class=\"sk-text-repr-fallback\"><pre>VotingClassifier(estimators=[(&#x27;lr&#x27;, LogisticRegression(solver=&#x27;liblinear&#x27;)),\n",
       "                             (&#x27;sgd&#x27;, SGDClassifier(loss=&#x27;modified_huber&#x27;))],\n",
       "                 voting=&#x27;soft&#x27;)</pre><b>In a Jupyter environment, please rerun this cell to show the HTML representation or trust the notebook. <br />On GitHub, the HTML representation is unable to render, please try loading this page with nbviewer.org.</b></div><div class=\"sk-container\" hidden><div class=\"sk-item sk-dashed-wrapped\"><div class=\"sk-label-container\"><div class=\"sk-label sk-toggleable\"><input class=\"sk-toggleable__control sk-hidden--visually\" id=\"sk-estimator-id-1\" type=\"checkbox\" ><label for=\"sk-estimator-id-1\" class=\"sk-toggleable__label sk-toggleable__label-arrow\">VotingClassifier</label><div class=\"sk-toggleable__content\"><pre>VotingClassifier(estimators=[(&#x27;lr&#x27;, LogisticRegression(solver=&#x27;liblinear&#x27;)),\n",
       "                             (&#x27;sgd&#x27;, SGDClassifier(loss=&#x27;modified_huber&#x27;))],\n",
       "                 voting=&#x27;soft&#x27;)</pre></div></div></div><div class=\"sk-parallel\"><div class=\"sk-parallel-item\"><div class=\"sk-item\"><div class=\"sk-label-container\"><div class=\"sk-label sk-toggleable\"><label>lr</label></div></div><div class=\"sk-serial\"><div class=\"sk-item\"><div class=\"sk-estimator sk-toggleable\"><input class=\"sk-toggleable__control sk-hidden--visually\" id=\"sk-estimator-id-2\" type=\"checkbox\" ><label for=\"sk-estimator-id-2\" class=\"sk-toggleable__label sk-toggleable__label-arrow\">LogisticRegression</label><div class=\"sk-toggleable__content\"><pre>LogisticRegression(solver=&#x27;liblinear&#x27;)</pre></div></div></div></div></div></div><div class=\"sk-parallel-item\"><div class=\"sk-item\"><div class=\"sk-label-container\"><div class=\"sk-label sk-toggleable\"><label>sgd</label></div></div><div class=\"sk-serial\"><div class=\"sk-item\"><div class=\"sk-estimator sk-toggleable\"><input class=\"sk-toggleable__control sk-hidden--visually\" id=\"sk-estimator-id-3\" type=\"checkbox\" ><label for=\"sk-estimator-id-3\" class=\"sk-toggleable__label sk-toggleable__label-arrow\">SGDClassifier</label><div class=\"sk-toggleable__content\"><pre>SGDClassifier(loss=&#x27;modified_huber&#x27;)</pre></div></div></div></div></div></div></div></div></div></div>"
      ],
      "text/plain": [
       "VotingClassifier(estimators=[('lr', LogisticRegression(solver='liblinear')),\n",
       "                             ('sgd', SGDClassifier(loss='modified_huber'))],\n",
       "                 voting='soft')"
      ]
     },
     "execution_count": 6,
     "metadata": {},
     "output_type": "execute_result"
    }
   ],
   "source": [
    "ensemble = VotingClassifier(estimators=[('lr', lr_model),('sgd', sgd_model)], voting='soft')\n",
    "ensemble.fit(X, train.label)"
   ]
  },
  {
   "cell_type": "code",
   "execution_count": 7,
   "id": "b7b28481",
   "metadata": {
    "execution": {
     "iopub.execute_input": "2023-11-22T11:28:12.308214Z",
     "iopub.status.busy": "2023-11-22T11:28:12.307372Z",
     "iopub.status.idle": "2023-11-22T11:28:12.877429Z",
     "shell.execute_reply": "2023-11-22T11:28:12.876106Z"
    },
    "papermill": {
     "duration": 0.593523,
     "end_time": "2023-11-22T11:28:12.880716",
     "exception": false,
     "start_time": "2023-11-22T11:28:12.287193",
     "status": "completed"
    },
    "tags": []
   },
   "outputs": [],
   "source": [
    "preds = ensemble.predict_proba(vectorizer1.transform(test['text']))[:,1]"
   ]
  },
  {
   "cell_type": "markdown",
   "id": "1aa15181",
   "metadata": {
    "papermill": {
     "duration": 0.008502,
     "end_time": "2023-11-22T11:28:12.898205",
     "exception": false,
     "start_time": "2023-11-22T11:28:12.889703",
     "status": "completed"
    },
    "tags": []
   },
   "source": [
    "## Spelling model\n",
    "\n",
    "### Spelling mistakes and syllable count"
   ]
  },
  {
   "cell_type": "code",
   "execution_count": 8,
   "id": "e6340c88",
   "metadata": {
    "execution": {
     "iopub.execute_input": "2023-11-22T11:28:12.918326Z",
     "iopub.status.busy": "2023-11-22T11:28:12.917859Z",
     "iopub.status.idle": "2023-11-22T11:28:48.275859Z",
     "shell.execute_reply": "2023-11-22T11:28:48.274320Z"
    },
    "papermill": {
     "duration": 35.37169,
     "end_time": "2023-11-22T11:28:48.278723",
     "exception": false,
     "start_time": "2023-11-22T11:28:12.907033",
     "status": "completed"
    },
    "tags": []
   },
   "outputs": [
    {
     "data": {
      "application/vnd.jupyter.widget-view+json": {
       "model_id": "d85bb04c23ee4f7da100686de600f1e5",
       "version_major": 2,
       "version_minor": 0
      },
      "text/plain": [
       "  0%|          | 0/28500 [00:00<?, ?it/s]"
      ]
     },
     "metadata": {},
     "output_type": "display_data"
    }
   ],
   "source": [
    "spell = SpellChecker()\n",
    "def count_spelling_mistakes(sentence):\n",
    "    sentence = sentence.translate(str.maketrans('', '', string.punctuation))\n",
    "    \n",
    "\n",
    "    words = sentence.split()\n",
    "    misspelled = spell.unknown(words)\n",
    "    num_mistakes = len(misspelled)\n",
    "    \n",
    "    return num_mistakes\n",
    "\n",
    "tqdm.pandas()\n",
    "count_mistakes = train.text.progress_apply(count_spelling_mistakes)\n",
    "mistakes = np.log1p(count_mistakes)\n",
    "mistakes.reset_index(drop=True, inplace=True)"
   ]
  },
  {
   "cell_type": "code",
   "execution_count": 9,
   "id": "4dab25df",
   "metadata": {
    "execution": {
     "iopub.execute_input": "2023-11-22T11:28:48.299592Z",
     "iopub.status.busy": "2023-11-22T11:28:48.299178Z",
     "iopub.status.idle": "2023-11-22T11:28:48.309881Z",
     "shell.execute_reply": "2023-11-22T11:28:48.308497Z"
    },
    "papermill": {
     "duration": 0.024383,
     "end_time": "2023-11-22T11:28:48.312410",
     "exception": false,
     "start_time": "2023-11-22T11:28:48.288027",
     "status": "completed"
    },
    "tags": []
   },
   "outputs": [],
   "source": [
    "def syllable_count(word):\n",
    "    word = word.lower()\n",
    "    count = 0\n",
    "    vowels = \"aeiouy\"\n",
    "    if word[0] in vowels:\n",
    "        count += 1\n",
    "    for index in range(1, len(word)):\n",
    "        if word[index] in vowels and word[index - 1] not in vowels:\n",
    "            count += 1\n",
    "    if word.endswith(\"e\"):\n",
    "        count -= 1\n",
    "    if count == 0:\n",
    "        count += 1\n",
    "    return count\n",
    "\n",
    "#Returns the number of words that have more then n syllables\n",
    "#Idea is to find the complicated words and hope that ai uses more complex words\n",
    "def nr_syllables_lr(n, text):\n",
    "    return len([syllable_count(word) for word in text.split() if syllable_count(word) >= n])\n",
    "\n",
    "#In this case we want to find the percentege od 2 syllbale words in a text\n",
    "def procent_small_syllables(text):\n",
    "    return len([syllable_count(word) for word in text.split() if syllable_count(word) == 2]) / len(text.split())\n",
    "\n",
    "\n"
   ]
  },
  {
   "cell_type": "code",
   "execution_count": 10,
   "id": "9e848afa",
   "metadata": {
    "execution": {
     "iopub.execute_input": "2023-11-22T11:28:48.332330Z",
     "iopub.status.busy": "2023-11-22T11:28:48.331865Z",
     "iopub.status.idle": "2023-11-22T11:29:42.143830Z",
     "shell.execute_reply": "2023-11-22T11:29:42.142372Z"
    },
    "papermill": {
     "duration": 53.826139,
     "end_time": "2023-11-22T11:29:42.147085",
     "exception": false,
     "start_time": "2023-11-22T11:28:48.320946",
     "status": "completed"
    },
    "tags": []
   },
   "outputs": [
    {
     "data": {
      "application/vnd.jupyter.widget-view+json": {
       "model_id": "0af9bd9fb83a45a295737d1be1f2ccfa",
       "version_major": 2,
       "version_minor": 0
      },
      "text/plain": [
       "  0%|          | 0/28500 [00:00<?, ?it/s]"
      ]
     },
     "metadata": {},
     "output_type": "display_data"
    }
   ],
   "source": [
    "tqdm.pandas()\n",
    "count_syllables = train.text.progress_apply(lambda text: nr_syllables_lr(4, text))\n",
    "count_syllables.reset_index(drop=True, inplace=True)\n",
    "\n",
    "small_words = train.text.apply(procent_small_syllables)\n",
    "small_words.reset_index(drop=True, inplace=True)"
   ]
  },
  {
   "cell_type": "code",
   "execution_count": 11,
   "id": "535fa00c",
   "metadata": {
    "execution": {
     "iopub.execute_input": "2023-11-22T11:29:42.168177Z",
     "iopub.status.busy": "2023-11-22T11:29:42.167105Z",
     "iopub.status.idle": "2023-11-22T11:29:42.175035Z",
     "shell.execute_reply": "2023-11-22T11:29:42.173880Z"
    },
    "papermill": {
     "duration": 0.021583,
     "end_time": "2023-11-22T11:29:42.178156",
     "exception": false,
     "start_time": "2023-11-22T11:29:42.156573",
     "status": "completed"
    },
    "tags": []
   },
   "outputs": [],
   "source": [
    "train2 = pd.DataFrame({'mistakes':mistakes, 'largeWords':count_syllables, 'smallWords':small_words})"
   ]
  },
  {
   "cell_type": "code",
   "execution_count": 12,
   "id": "e192b371",
   "metadata": {
    "execution": {
     "iopub.execute_input": "2023-11-22T11:29:42.199155Z",
     "iopub.status.busy": "2023-11-22T11:29:42.198682Z",
     "iopub.status.idle": "2023-11-22T11:29:42.358011Z",
     "shell.execute_reply": "2023-11-22T11:29:42.356571Z"
    },
    "papermill": {
     "duration": 0.175432,
     "end_time": "2023-11-22T11:29:42.363022",
     "exception": false,
     "start_time": "2023-11-22T11:29:42.187590",
     "status": "completed"
    },
    "tags": []
   },
   "outputs": [
    {
     "data": {
      "text/html": [
       "<style>#sk-container-id-2 {color: black;background-color: white;}#sk-container-id-2 pre{padding: 0;}#sk-container-id-2 div.sk-toggleable {background-color: white;}#sk-container-id-2 label.sk-toggleable__label {cursor: pointer;display: block;width: 100%;margin-bottom: 0;padding: 0.3em;box-sizing: border-box;text-align: center;}#sk-container-id-2 label.sk-toggleable__label-arrow:before {content: \"▸\";float: left;margin-right: 0.25em;color: #696969;}#sk-container-id-2 label.sk-toggleable__label-arrow:hover:before {color: black;}#sk-container-id-2 div.sk-estimator:hover label.sk-toggleable__label-arrow:before {color: black;}#sk-container-id-2 div.sk-toggleable__content {max-height: 0;max-width: 0;overflow: hidden;text-align: left;background-color: #f0f8ff;}#sk-container-id-2 div.sk-toggleable__content pre {margin: 0.2em;color: black;border-radius: 0.25em;background-color: #f0f8ff;}#sk-container-id-2 input.sk-toggleable__control:checked~div.sk-toggleable__content {max-height: 200px;max-width: 100%;overflow: auto;}#sk-container-id-2 input.sk-toggleable__control:checked~label.sk-toggleable__label-arrow:before {content: \"▾\";}#sk-container-id-2 div.sk-estimator input.sk-toggleable__control:checked~label.sk-toggleable__label {background-color: #d4ebff;}#sk-container-id-2 div.sk-label input.sk-toggleable__control:checked~label.sk-toggleable__label {background-color: #d4ebff;}#sk-container-id-2 input.sk-hidden--visually {border: 0;clip: rect(1px 1px 1px 1px);clip: rect(1px, 1px, 1px, 1px);height: 1px;margin: -1px;overflow: hidden;padding: 0;position: absolute;width: 1px;}#sk-container-id-2 div.sk-estimator {font-family: monospace;background-color: #f0f8ff;border: 1px dotted black;border-radius: 0.25em;box-sizing: border-box;margin-bottom: 0.5em;}#sk-container-id-2 div.sk-estimator:hover {background-color: #d4ebff;}#sk-container-id-2 div.sk-parallel-item::after {content: \"\";width: 100%;border-bottom: 1px solid gray;flex-grow: 1;}#sk-container-id-2 div.sk-label:hover label.sk-toggleable__label {background-color: #d4ebff;}#sk-container-id-2 div.sk-serial::before {content: \"\";position: absolute;border-left: 1px solid gray;box-sizing: border-box;top: 0;bottom: 0;left: 50%;z-index: 0;}#sk-container-id-2 div.sk-serial {display: flex;flex-direction: column;align-items: center;background-color: white;padding-right: 0.2em;padding-left: 0.2em;position: relative;}#sk-container-id-2 div.sk-item {position: relative;z-index: 1;}#sk-container-id-2 div.sk-parallel {display: flex;align-items: stretch;justify-content: center;background-color: white;position: relative;}#sk-container-id-2 div.sk-item::before, #sk-container-id-2 div.sk-parallel-item::before {content: \"\";position: absolute;border-left: 1px solid gray;box-sizing: border-box;top: 0;bottom: 0;left: 50%;z-index: -1;}#sk-container-id-2 div.sk-parallel-item {display: flex;flex-direction: column;z-index: 1;position: relative;background-color: white;}#sk-container-id-2 div.sk-parallel-item:first-child::after {align-self: flex-end;width: 50%;}#sk-container-id-2 div.sk-parallel-item:last-child::after {align-self: flex-start;width: 50%;}#sk-container-id-2 div.sk-parallel-item:only-child::after {width: 0;}#sk-container-id-2 div.sk-dashed-wrapped {border: 1px dashed gray;margin: 0 0.4em 0.5em 0.4em;box-sizing: border-box;padding-bottom: 0.4em;background-color: white;}#sk-container-id-2 div.sk-label label {font-family: monospace;font-weight: bold;display: inline-block;line-height: 1.2em;}#sk-container-id-2 div.sk-label-container {text-align: center;}#sk-container-id-2 div.sk-container {/* jupyter's `normalize.less` sets `[hidden] { display: none; }` but bootstrap.min.css set `[hidden] { display: none !important; }` so we also need the `!important` here to be able to override the default hidden behavior on the sphinx rendered scikit-learn.org. See: https://github.com/scikit-learn/scikit-learn/issues/21755 */display: inline-block !important;position: relative;}#sk-container-id-2 div.sk-text-repr-fallback {display: none;}</style><div id=\"sk-container-id-2\" class=\"sk-top-container\"><div class=\"sk-text-repr-fallback\"><pre>LogisticRegression()</pre><b>In a Jupyter environment, please rerun this cell to show the HTML representation or trust the notebook. <br />On GitHub, the HTML representation is unable to render, please try loading this page with nbviewer.org.</b></div><div class=\"sk-container\" hidden><div class=\"sk-item\"><div class=\"sk-estimator sk-toggleable\"><input class=\"sk-toggleable__control sk-hidden--visually\" id=\"sk-estimator-id-4\" type=\"checkbox\" checked><label for=\"sk-estimator-id-4\" class=\"sk-toggleable__label sk-toggleable__label-arrow\">LogisticRegression</label><div class=\"sk-toggleable__content\"><pre>LogisticRegression()</pre></div></div></div></div></div>"
      ],
      "text/plain": [
       "LogisticRegression()"
      ]
     },
     "execution_count": 12,
     "metadata": {},
     "output_type": "execute_result"
    }
   ],
   "source": [
    "lr2 = LogisticRegression()\n",
    "lr2.fit(train2, train.label)"
   ]
  },
  {
   "cell_type": "code",
   "execution_count": 13,
   "id": "9ce65f35",
   "metadata": {
    "execution": {
     "iopub.execute_input": "2023-11-22T11:29:42.405649Z",
     "iopub.status.busy": "2023-11-22T11:29:42.404907Z",
     "iopub.status.idle": "2023-11-22T11:29:42.424162Z",
     "shell.execute_reply": "2023-11-22T11:29:42.422664Z"
    },
    "papermill": {
     "duration": 0.045606,
     "end_time": "2023-11-22T11:29:42.428563",
     "exception": false,
     "start_time": "2023-11-22T11:29:42.382957",
     "status": "completed"
    },
    "tags": []
   },
   "outputs": [],
   "source": [
    "test_mistakes = test.text.apply(count_spelling_mistakes)\n",
    "test_large_words = test.text.apply(lambda text: nr_syllables_lr(4, text) )\n",
    "test_small_words = test.text.apply(procent_small_syllables)\n",
    "\n",
    "mistake_pred = lr2.predict_proba(pd.DataFrame({'mistakes':test_mistakes, 'largeWords':test_large_words, 'smallWords':test_small_words}))[:,1]"
   ]
  },
  {
   "cell_type": "markdown",
   "id": "cf9a6b75",
   "metadata": {
    "papermill": {
     "duration": 0.018866,
     "end_time": "2023-11-22T11:29:42.467136",
     "exception": false,
     "start_time": "2023-11-22T11:29:42.448270",
     "status": "completed"
    },
    "tags": []
   },
   "source": [
    "## Combining the results"
   ]
  },
  {
   "cell_type": "code",
   "execution_count": 14,
   "id": "5b6224a1",
   "metadata": {
    "execution": {
     "iopub.execute_input": "2023-11-22T11:29:42.489480Z",
     "iopub.status.busy": "2023-11-22T11:29:42.489084Z",
     "iopub.status.idle": "2023-11-22T11:29:42.494062Z",
     "shell.execute_reply": "2023-11-22T11:29:42.493085Z"
    },
    "papermill": {
     "duration": 0.018129,
     "end_time": "2023-11-22T11:29:42.496292",
     "exception": false,
     "start_time": "2023-11-22T11:29:42.478163",
     "status": "completed"
    },
    "tags": []
   },
   "outputs": [],
   "source": [
    "final_pred = 0.67 * preds + 0.33 * mistake_pred"
   ]
  },
  {
   "cell_type": "code",
   "execution_count": 15,
   "id": "7ddfb9ee",
   "metadata": {
    "execution": {
     "iopub.execute_input": "2023-11-22T11:29:42.517607Z",
     "iopub.status.busy": "2023-11-22T11:29:42.516792Z",
     "iopub.status.idle": "2023-11-22T11:29:42.527285Z",
     "shell.execute_reply": "2023-11-22T11:29:42.526049Z"
    },
    "papermill": {
     "duration": 0.024596,
     "end_time": "2023-11-22T11:29:42.530020",
     "exception": false,
     "start_time": "2023-11-22T11:29:42.505424",
     "status": "completed"
    },
    "tags": []
   },
   "outputs": [],
   "source": [
    "pd.DataFrame({'id':test[\"id\"],'generated':final_pred}).to_csv('submission.csv', index=False)"
   ]
  },
  {
   "cell_type": "code",
   "execution_count": null,
   "id": "9c259fd9",
   "metadata": {
    "papermill": {
     "duration": 0.008682,
     "end_time": "2023-11-22T11:29:42.547900",
     "exception": false,
     "start_time": "2023-11-22T11:29:42.539218",
     "status": "completed"
    },
    "tags": []
   },
   "outputs": [],
   "source": []
  }
 ],
 "metadata": {
  "kaggle": {
   "accelerator": "none",
   "dataSources": [
    {
     "databundleVersionId": 6888007,
     "sourceId": 61542,
     "sourceType": "competition"
    },
    {
     "datasetId": 4035525,
     "sourceId": 7018365,
     "sourceType": "datasetVersion"
    },
    {
     "datasetId": 4035951,
     "sourceId": 7018969,
     "sourceType": "datasetVersion"
    }
   ],
   "dockerImageVersionId": 30579,
   "isGpuEnabled": false,
   "isInternetEnabled": false,
   "language": "python",
   "sourceType": "notebook"
  },
  "kernelspec": {
   "display_name": "Python 3",
   "language": "python",
   "name": "python3"
  },
  "language_info": {
   "codemirror_mode": {
    "name": "ipython",
    "version": 3
   },
   "file_extension": ".py",
   "mimetype": "text/x-python",
   "name": "python",
   "nbconvert_exporter": "python",
   "pygments_lexer": "ipython3",
   "version": "3.10.12"
  },
  "papermill": {
   "default_parameters": {},
   "duration": 331.551838,
   "end_time": "2023-11-22T11:29:45.180856",
   "environment_variables": {},
   "exception": null,
   "input_path": "__notebook__.ipynb",
   "output_path": "__notebook__.ipynb",
   "parameters": {},
   "start_time": "2023-11-22T11:24:13.629018",
   "version": "2.4.0"
  },
  "widgets": {
   "application/vnd.jupyter.widget-state+json": {
    "state": {
     "048e20e435514b62b0679a76aa91a798": {
      "model_module": "@jupyter-widgets/controls",
      "model_module_version": "1.5.0",
      "model_name": "HTMLModel",
      "state": {
       "_dom_classes": [],
       "_model_module": "@jupyter-widgets/controls",
       "_model_module_version": "1.5.0",
       "_model_name": "HTMLModel",
       "_view_count": null,
       "_view_module": "@jupyter-widgets/controls",
       "_view_module_version": "1.5.0",
       "_view_name": "HTMLView",
       "description": "",
       "description_tooltip": null,
       "layout": "IPY_MODEL_43d9094388ae4756994e8d79f8f97400",
       "placeholder": "​",
       "style": "IPY_MODEL_200612910589451880d3497b2f45b6f2",
       "value": "100%"
      }
     },
     "0a2db9fa7c3a422fa6fd40bb46ea45be": {
      "model_module": "@jupyter-widgets/base",
      "model_module_version": "1.2.0",
      "model_name": "LayoutModel",
      "state": {
       "_model_module": "@jupyter-widgets/base",
       "_model_module_version": "1.2.0",
       "_model_name": "LayoutModel",
       "_view_count": null,
       "_view_module": "@jupyter-widgets/base",
       "_view_module_version": "1.2.0",
       "_view_name": "LayoutView",
       "align_content": null,
       "align_items": null,
       "align_self": null,
       "border": null,
       "bottom": null,
       "display": null,
       "flex": null,
       "flex_flow": null,
       "grid_area": null,
       "grid_auto_columns": null,
       "grid_auto_flow": null,
       "grid_auto_rows": null,
       "grid_column": null,
       "grid_gap": null,
       "grid_row": null,
       "grid_template_areas": null,
       "grid_template_columns": null,
       "grid_template_rows": null,
       "height": null,
       "justify_content": null,
       "justify_items": null,
       "left": null,
       "margin": null,
       "max_height": null,
       "max_width": null,
       "min_height": null,
       "min_width": null,
       "object_fit": null,
       "object_position": null,
       "order": null,
       "overflow": null,
       "overflow_x": null,
       "overflow_y": null,
       "padding": null,
       "right": null,
       "top": null,
       "visibility": null,
       "width": null
      }
     },
     "0af9bd9fb83a45a295737d1be1f2ccfa": {
      "model_module": "@jupyter-widgets/controls",
      "model_module_version": "1.5.0",
      "model_name": "HBoxModel",
      "state": {
       "_dom_classes": [],
       "_model_module": "@jupyter-widgets/controls",
       "_model_module_version": "1.5.0",
       "_model_name": "HBoxModel",
       "_view_count": null,
       "_view_module": "@jupyter-widgets/controls",
       "_view_module_version": "1.5.0",
       "_view_name": "HBoxView",
       "box_style": "",
       "children": [
        "IPY_MODEL_7325b2318d2f459a8acc65ce59ad80ae",
        "IPY_MODEL_28228fcaa4904f099860d665b225e89c",
        "IPY_MODEL_9f632fd02fe6438283b0d18c38e5194f"
       ],
       "layout": "IPY_MODEL_6f7f31e6d27f43a8b68dbd6555aaac8b"
      }
     },
     "19f8ddad3b6e4d488bfac9992e24911e": {
      "model_module": "@jupyter-widgets/controls",
      "model_module_version": "1.5.0",
      "model_name": "DescriptionStyleModel",
      "state": {
       "_model_module": "@jupyter-widgets/controls",
       "_model_module_version": "1.5.0",
       "_model_name": "DescriptionStyleModel",
       "_view_count": null,
       "_view_module": "@jupyter-widgets/base",
       "_view_module_version": "1.2.0",
       "_view_name": "StyleView",
       "description_width": ""
      }
     },
     "1cd0db6966e64c45a89a6c1f76b84e3f": {
      "model_module": "@jupyter-widgets/base",
      "model_module_version": "1.2.0",
      "model_name": "LayoutModel",
      "state": {
       "_model_module": "@jupyter-widgets/base",
       "_model_module_version": "1.2.0",
       "_model_name": "LayoutModel",
       "_view_count": null,
       "_view_module": "@jupyter-widgets/base",
       "_view_module_version": "1.2.0",
       "_view_name": "LayoutView",
       "align_content": null,
       "align_items": null,
       "align_self": null,
       "border": null,
       "bottom": null,
       "display": null,
       "flex": null,
       "flex_flow": null,
       "grid_area": null,
       "grid_auto_columns": null,
       "grid_auto_flow": null,
       "grid_auto_rows": null,
       "grid_column": null,
       "grid_gap": null,
       "grid_row": null,
       "grid_template_areas": null,
       "grid_template_columns": null,
       "grid_template_rows": null,
       "height": null,
       "justify_content": null,
       "justify_items": null,
       "left": null,
       "margin": null,
       "max_height": null,
       "max_width": null,
       "min_height": null,
       "min_width": null,
       "object_fit": null,
       "object_position": null,
       "order": null,
       "overflow": null,
       "overflow_x": null,
       "overflow_y": null,
       "padding": null,
       "right": null,
       "top": null,
       "visibility": null,
       "width": null
      }
     },
     "1eb200b874b24c50abf3126c71c03aac": {
      "model_module": "@jupyter-widgets/base",
      "model_module_version": "1.2.0",
      "model_name": "LayoutModel",
      "state": {
       "_model_module": "@jupyter-widgets/base",
       "_model_module_version": "1.2.0",
       "_model_name": "LayoutModel",
       "_view_count": null,
       "_view_module": "@jupyter-widgets/base",
       "_view_module_version": "1.2.0",
       "_view_name": "LayoutView",
       "align_content": null,
       "align_items": null,
       "align_self": null,
       "border": null,
       "bottom": null,
       "display": null,
       "flex": null,
       "flex_flow": null,
       "grid_area": null,
       "grid_auto_columns": null,
       "grid_auto_flow": null,
       "grid_auto_rows": null,
       "grid_column": null,
       "grid_gap": null,
       "grid_row": null,
       "grid_template_areas": null,
       "grid_template_columns": null,
       "grid_template_rows": null,
       "height": null,
       "justify_content": null,
       "justify_items": null,
       "left": null,
       "margin": null,
       "max_height": null,
       "max_width": null,
       "min_height": null,
       "min_width": null,
       "object_fit": null,
       "object_position": null,
       "order": null,
       "overflow": null,
       "overflow_x": null,
       "overflow_y": null,
       "padding": null,
       "right": null,
       "top": null,
       "visibility": null,
       "width": null
      }
     },
     "200612910589451880d3497b2f45b6f2": {
      "model_module": "@jupyter-widgets/controls",
      "model_module_version": "1.5.0",
      "model_name": "DescriptionStyleModel",
      "state": {
       "_model_module": "@jupyter-widgets/controls",
       "_model_module_version": "1.5.0",
       "_model_name": "DescriptionStyleModel",
       "_view_count": null,
       "_view_module": "@jupyter-widgets/base",
       "_view_module_version": "1.2.0",
       "_view_name": "StyleView",
       "description_width": ""
      }
     },
     "28228fcaa4904f099860d665b225e89c": {
      "model_module": "@jupyter-widgets/controls",
      "model_module_version": "1.5.0",
      "model_name": "FloatProgressModel",
      "state": {
       "_dom_classes": [],
       "_model_module": "@jupyter-widgets/controls",
       "_model_module_version": "1.5.0",
       "_model_name": "FloatProgressModel",
       "_view_count": null,
       "_view_module": "@jupyter-widgets/controls",
       "_view_module_version": "1.5.0",
       "_view_name": "ProgressView",
       "bar_style": "success",
       "description": "",
       "description_tooltip": null,
       "layout": "IPY_MODEL_1eb200b874b24c50abf3126c71c03aac",
       "max": 28500.0,
       "min": 0.0,
       "orientation": "horizontal",
       "style": "IPY_MODEL_c87051ab19cf404b995506a700c0dbfe",
       "value": 28500.0
      }
     },
     "43d9094388ae4756994e8d79f8f97400": {
      "model_module": "@jupyter-widgets/base",
      "model_module_version": "1.2.0",
      "model_name": "LayoutModel",
      "state": {
       "_model_module": "@jupyter-widgets/base",
       "_model_module_version": "1.2.0",
       "_model_name": "LayoutModel",
       "_view_count": null,
       "_view_module": "@jupyter-widgets/base",
       "_view_module_version": "1.2.0",
       "_view_name": "LayoutView",
       "align_content": null,
       "align_items": null,
       "align_self": null,
       "border": null,
       "bottom": null,
       "display": null,
       "flex": null,
       "flex_flow": null,
       "grid_area": null,
       "grid_auto_columns": null,
       "grid_auto_flow": null,
       "grid_auto_rows": null,
       "grid_column": null,
       "grid_gap": null,
       "grid_row": null,
       "grid_template_areas": null,
       "grid_template_columns": null,
       "grid_template_rows": null,
       "height": null,
       "justify_content": null,
       "justify_items": null,
       "left": null,
       "margin": null,
       "max_height": null,
       "max_width": null,
       "min_height": null,
       "min_width": null,
       "object_fit": null,
       "object_position": null,
       "order": null,
       "overflow": null,
       "overflow_x": null,
       "overflow_y": null,
       "padding": null,
       "right": null,
       "top": null,
       "visibility": null,
       "width": null
      }
     },
     "5872487392ec413188d8134b7298099e": {
      "model_module": "@jupyter-widgets/base",
      "model_module_version": "1.2.0",
      "model_name": "LayoutModel",
      "state": {
       "_model_module": "@jupyter-widgets/base",
       "_model_module_version": "1.2.0",
       "_model_name": "LayoutModel",
       "_view_count": null,
       "_view_module": "@jupyter-widgets/base",
       "_view_module_version": "1.2.0",
       "_view_name": "LayoutView",
       "align_content": null,
       "align_items": null,
       "align_self": null,
       "border": null,
       "bottom": null,
       "display": null,
       "flex": null,
       "flex_flow": null,
       "grid_area": null,
       "grid_auto_columns": null,
       "grid_auto_flow": null,
       "grid_auto_rows": null,
       "grid_column": null,
       "grid_gap": null,
       "grid_row": null,
       "grid_template_areas": null,
       "grid_template_columns": null,
       "grid_template_rows": null,
       "height": null,
       "justify_content": null,
       "justify_items": null,
       "left": null,
       "margin": null,
       "max_height": null,
       "max_width": null,
       "min_height": null,
       "min_width": null,
       "object_fit": null,
       "object_position": null,
       "order": null,
       "overflow": null,
       "overflow_x": null,
       "overflow_y": null,
       "padding": null,
       "right": null,
       "top": null,
       "visibility": null,
       "width": null
      }
     },
     "612aa04b22e74c07b910219f37e2535b": {
      "model_module": "@jupyter-widgets/base",
      "model_module_version": "1.2.0",
      "model_name": "LayoutModel",
      "state": {
       "_model_module": "@jupyter-widgets/base",
       "_model_module_version": "1.2.0",
       "_model_name": "LayoutModel",
       "_view_count": null,
       "_view_module": "@jupyter-widgets/base",
       "_view_module_version": "1.2.0",
       "_view_name": "LayoutView",
       "align_content": null,
       "align_items": null,
       "align_self": null,
       "border": null,
       "bottom": null,
       "display": null,
       "flex": null,
       "flex_flow": null,
       "grid_area": null,
       "grid_auto_columns": null,
       "grid_auto_flow": null,
       "grid_auto_rows": null,
       "grid_column": null,
       "grid_gap": null,
       "grid_row": null,
       "grid_template_areas": null,
       "grid_template_columns": null,
       "grid_template_rows": null,
       "height": null,
       "justify_content": null,
       "justify_items": null,
       "left": null,
       "margin": null,
       "max_height": null,
       "max_width": null,
       "min_height": null,
       "min_width": null,
       "object_fit": null,
       "object_position": null,
       "order": null,
       "overflow": null,
       "overflow_x": null,
       "overflow_y": null,
       "padding": null,
       "right": null,
       "top": null,
       "visibility": null,
       "width": null
      }
     },
     "6b81d5d4a0854fd5a9dca0af746c5ca0": {
      "model_module": "@jupyter-widgets/controls",
      "model_module_version": "1.5.0",
      "model_name": "FloatProgressModel",
      "state": {
       "_dom_classes": [],
       "_model_module": "@jupyter-widgets/controls",
       "_model_module_version": "1.5.0",
       "_model_name": "FloatProgressModel",
       "_view_count": null,
       "_view_module": "@jupyter-widgets/controls",
       "_view_module_version": "1.5.0",
       "_view_name": "ProgressView",
       "bar_style": "success",
       "description": "",
       "description_tooltip": null,
       "layout": "IPY_MODEL_7674e3cec1494630a371c7d0dbd4b6d9",
       "max": 28500.0,
       "min": 0.0,
       "orientation": "horizontal",
       "style": "IPY_MODEL_a9d093a205174b03a60a3a0091d5fa70",
       "value": 28500.0
      }
     },
     "6f7f31e6d27f43a8b68dbd6555aaac8b": {
      "model_module": "@jupyter-widgets/base",
      "model_module_version": "1.2.0",
      "model_name": "LayoutModel",
      "state": {
       "_model_module": "@jupyter-widgets/base",
       "_model_module_version": "1.2.0",
       "_model_name": "LayoutModel",
       "_view_count": null,
       "_view_module": "@jupyter-widgets/base",
       "_view_module_version": "1.2.0",
       "_view_name": "LayoutView",
       "align_content": null,
       "align_items": null,
       "align_self": null,
       "border": null,
       "bottom": null,
       "display": null,
       "flex": null,
       "flex_flow": null,
       "grid_area": null,
       "grid_auto_columns": null,
       "grid_auto_flow": null,
       "grid_auto_rows": null,
       "grid_column": null,
       "grid_gap": null,
       "grid_row": null,
       "grid_template_areas": null,
       "grid_template_columns": null,
       "grid_template_rows": null,
       "height": null,
       "justify_content": null,
       "justify_items": null,
       "left": null,
       "margin": null,
       "max_height": null,
       "max_width": null,
       "min_height": null,
       "min_width": null,
       "object_fit": null,
       "object_position": null,
       "order": null,
       "overflow": null,
       "overflow_x": null,
       "overflow_y": null,
       "padding": null,
       "right": null,
       "top": null,
       "visibility": null,
       "width": null
      }
     },
     "7325b2318d2f459a8acc65ce59ad80ae": {
      "model_module": "@jupyter-widgets/controls",
      "model_module_version": "1.5.0",
      "model_name": "HTMLModel",
      "state": {
       "_dom_classes": [],
       "_model_module": "@jupyter-widgets/controls",
       "_model_module_version": "1.5.0",
       "_model_name": "HTMLModel",
       "_view_count": null,
       "_view_module": "@jupyter-widgets/controls",
       "_view_module_version": "1.5.0",
       "_view_name": "HTMLView",
       "description": "",
       "description_tooltip": null,
       "layout": "IPY_MODEL_612aa04b22e74c07b910219f37e2535b",
       "placeholder": "​",
       "style": "IPY_MODEL_19f8ddad3b6e4d488bfac9992e24911e",
       "value": "100%"
      }
     },
     "7674e3cec1494630a371c7d0dbd4b6d9": {
      "model_module": "@jupyter-widgets/base",
      "model_module_version": "1.2.0",
      "model_name": "LayoutModel",
      "state": {
       "_model_module": "@jupyter-widgets/base",
       "_model_module_version": "1.2.0",
       "_model_name": "LayoutModel",
       "_view_count": null,
       "_view_module": "@jupyter-widgets/base",
       "_view_module_version": "1.2.0",
       "_view_name": "LayoutView",
       "align_content": null,
       "align_items": null,
       "align_self": null,
       "border": null,
       "bottom": null,
       "display": null,
       "flex": null,
       "flex_flow": null,
       "grid_area": null,
       "grid_auto_columns": null,
       "grid_auto_flow": null,
       "grid_auto_rows": null,
       "grid_column": null,
       "grid_gap": null,
       "grid_row": null,
       "grid_template_areas": null,
       "grid_template_columns": null,
       "grid_template_rows": null,
       "height": null,
       "justify_content": null,
       "justify_items": null,
       "left": null,
       "margin": null,
       "max_height": null,
       "max_width": null,
       "min_height": null,
       "min_width": null,
       "object_fit": null,
       "object_position": null,
       "order": null,
       "overflow": null,
       "overflow_x": null,
       "overflow_y": null,
       "padding": null,
       "right": null,
       "top": null,
       "visibility": null,
       "width": null
      }
     },
     "9f632fd02fe6438283b0d18c38e5194f": {
      "model_module": "@jupyter-widgets/controls",
      "model_module_version": "1.5.0",
      "model_name": "HTMLModel",
      "state": {
       "_dom_classes": [],
       "_model_module": "@jupyter-widgets/controls",
       "_model_module_version": "1.5.0",
       "_model_name": "HTMLModel",
       "_view_count": null,
       "_view_module": "@jupyter-widgets/controls",
       "_view_module_version": "1.5.0",
       "_view_name": "HTMLView",
       "description": "",
       "description_tooltip": null,
       "layout": "IPY_MODEL_1cd0db6966e64c45a89a6c1f76b84e3f",
       "placeholder": "​",
       "style": "IPY_MODEL_b1c00e2082404dd685acb8e3b31209fd",
       "value": " 28500/28500 [00:25&lt;00:00, 1217.91it/s]"
      }
     },
     "a9d093a205174b03a60a3a0091d5fa70": {
      "model_module": "@jupyter-widgets/controls",
      "model_module_version": "1.5.0",
      "model_name": "ProgressStyleModel",
      "state": {
       "_model_module": "@jupyter-widgets/controls",
       "_model_module_version": "1.5.0",
       "_model_name": "ProgressStyleModel",
       "_view_count": null,
       "_view_module": "@jupyter-widgets/base",
       "_view_module_version": "1.2.0",
       "_view_name": "StyleView",
       "bar_color": null,
       "description_width": ""
      }
     },
     "b1c00e2082404dd685acb8e3b31209fd": {
      "model_module": "@jupyter-widgets/controls",
      "model_module_version": "1.5.0",
      "model_name": "DescriptionStyleModel",
      "state": {
       "_model_module": "@jupyter-widgets/controls",
       "_model_module_version": "1.5.0",
       "_model_name": "DescriptionStyleModel",
       "_view_count": null,
       "_view_module": "@jupyter-widgets/base",
       "_view_module_version": "1.2.0",
       "_view_name": "StyleView",
       "description_width": ""
      }
     },
     "c87051ab19cf404b995506a700c0dbfe": {
      "model_module": "@jupyter-widgets/controls",
      "model_module_version": "1.5.0",
      "model_name": "ProgressStyleModel",
      "state": {
       "_model_module": "@jupyter-widgets/controls",
       "_model_module_version": "1.5.0",
       "_model_name": "ProgressStyleModel",
       "_view_count": null,
       "_view_module": "@jupyter-widgets/base",
       "_view_module_version": "1.2.0",
       "_view_name": "StyleView",
       "bar_color": null,
       "description_width": ""
      }
     },
     "cd132ec6461848e587269fd73ba93ad7": {
      "model_module": "@jupyter-widgets/controls",
      "model_module_version": "1.5.0",
      "model_name": "DescriptionStyleModel",
      "state": {
       "_model_module": "@jupyter-widgets/controls",
       "_model_module_version": "1.5.0",
       "_model_name": "DescriptionStyleModel",
       "_view_count": null,
       "_view_module": "@jupyter-widgets/base",
       "_view_module_version": "1.2.0",
       "_view_name": "StyleView",
       "description_width": ""
      }
     },
     "d85bb04c23ee4f7da100686de600f1e5": {
      "model_module": "@jupyter-widgets/controls",
      "model_module_version": "1.5.0",
      "model_name": "HBoxModel",
      "state": {
       "_dom_classes": [],
       "_model_module": "@jupyter-widgets/controls",
       "_model_module_version": "1.5.0",
       "_model_name": "HBoxModel",
       "_view_count": null,
       "_view_module": "@jupyter-widgets/controls",
       "_view_module_version": "1.5.0",
       "_view_name": "HBoxView",
       "box_style": "",
       "children": [
        "IPY_MODEL_048e20e435514b62b0679a76aa91a798",
        "IPY_MODEL_6b81d5d4a0854fd5a9dca0af746c5ca0",
        "IPY_MODEL_e99f603b41dd4956b7a063c2617bd98c"
       ],
       "layout": "IPY_MODEL_5872487392ec413188d8134b7298099e"
      }
     },
     "e99f603b41dd4956b7a063c2617bd98c": {
      "model_module": "@jupyter-widgets/controls",
      "model_module_version": "1.5.0",
      "model_name": "HTMLModel",
      "state": {
       "_dom_classes": [],
       "_model_module": "@jupyter-widgets/controls",
       "_model_module_version": "1.5.0",
       "_model_name": "HTMLModel",
       "_view_count": null,
       "_view_module": "@jupyter-widgets/controls",
       "_view_module_version": "1.5.0",
       "_view_name": "HTMLView",
       "description": "",
       "description_tooltip": null,
       "layout": "IPY_MODEL_0a2db9fa7c3a422fa6fd40bb46ea45be",
       "placeholder": "​",
       "style": "IPY_MODEL_cd132ec6461848e587269fd73ba93ad7",
       "value": " 28500/28500 [00:35&lt;00:00, 922.75it/s]"
      }
     }
    },
    "version_major": 2,
    "version_minor": 0
   }
  }
 },
 "nbformat": 4,
 "nbformat_minor": 5
}
